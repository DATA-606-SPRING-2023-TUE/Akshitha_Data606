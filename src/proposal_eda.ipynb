{
 "cells": [
  {
   "cell_type": "code",
   "execution_count": 2,
   "id": "a5a99f3e",
   "metadata": {},
   "outputs": [],
   "source": [
    "import pandas as pd"
   ]
  },
  {
   "cell_type": "markdown",
   "id": "a44e3fe6",
   "metadata": {},
   "source": [
    "# Loading the data into Dataframe"
   ]
  },
  {
   "cell_type": "code",
   "execution_count": null,
   "id": "fc3e69ce",
   "metadata": {},
   "outputs": [],
   "source": [
    "df2019excel = pd.read_excel(\"H-1B_Disclosure_Data_FY2019.xlsx\")"
   ]
  },
  {
   "cell_type": "code",
   "execution_count": 41,
   "id": "dd26ff3c",
   "metadata": {},
   "outputs": [],
   "source": [
    "df2018excel = pd.read_excel(\"H-1B_Disclosure_Data_FY2018_EOY.xlsx\")"
   ]
  },
  {
   "cell_type": "code",
   "execution_count": 42,
   "id": "da6e550c",
   "metadata": {},
   "outputs": [],
   "source": [
    "df2017excel = pd.read_excel(\"H-1B_Disclosure_Data_FY17.xlsx\")"
   ]
  },
  {
   "cell_type": "code",
   "execution_count": 45,
   "id": "d58ee9d9",
   "metadata": {},
   "outputs": [],
   "source": [
    "df2019excel['Year'] = '2019'"
   ]
  },
  {
   "cell_type": "code",
   "execution_count": 46,
   "id": "d7d4d2b8",
   "metadata": {},
   "outputs": [],
   "source": [
    "df2018excel['Year'] = '2018'"
   ]
  },
  {
   "cell_type": "code",
   "execution_count": 47,
   "id": "a6adf0f0",
   "metadata": {},
   "outputs": [],
   "source": [
    "df2017excel['Year'] = '2017'"
   ]
  },
  {
   "cell_type": "code",
   "execution_count": 63,
   "id": "e7e37e17",
   "metadata": {},
   "outputs": [
    {
     "data": {
      "text/plain": [
       "['CASE_NUMBER',\n",
       " 'CASE_STATUS',\n",
       " 'CASE_SUBMITTED',\n",
       " 'DECISION_DATE',\n",
       " 'VISA_CLASS',\n",
       " 'EMPLOYMENT_START_DATE',\n",
       " 'EMPLOYMENT_END_DATE',\n",
       " 'EMPLOYER_NAME',\n",
       " 'EMPLOYER_BUSINESS_DBA',\n",
       " 'EMPLOYER_ADDRESS',\n",
       " 'EMPLOYER_CITY',\n",
       " 'EMPLOYER_STATE',\n",
       " 'EMPLOYER_POSTAL_CODE',\n",
       " 'EMPLOYER_COUNTRY',\n",
       " 'EMPLOYER_PROVINCE',\n",
       " 'EMPLOYER_PHONE',\n",
       " 'EMPLOYER_PHONE_EXT',\n",
       " 'AGENT_REPRESENTING_EMPLOYER',\n",
       " 'AGENT_ATTORNEY_NAME',\n",
       " 'AGENT_ATTORNEY_CITY',\n",
       " 'AGENT_ATTORNEY_STATE',\n",
       " 'JOB_TITLE',\n",
       " 'SOC_CODE',\n",
       " 'SOC_NAME',\n",
       " 'NAICS_CODE',\n",
       " 'TOTAL_WORKERS',\n",
       " 'NEW_EMPLOYMENT',\n",
       " 'CONTINUED_EMPLOYMENT',\n",
       " 'CHANGE_PREVIOUS_EMPLOYMENT',\n",
       " 'NEW_CONCURRENT_EMPLOYMENT',\n",
       " 'CHANGE_EMPLOYER',\n",
       " 'AMENDED_PETITION',\n",
       " 'FULL_TIME_POSITION',\n",
       " 'PREVAILING_WAGE',\n",
       " 'PW_UNIT_OF_PAY',\n",
       " 'PW_WAGE_LEVEL',\n",
       " 'PW_SOURCE',\n",
       " 'PW_SOURCE_YEAR',\n",
       " 'PW_SOURCE_OTHER',\n",
       " 'WAGE_RATE_OF_PAY_FROM',\n",
       " 'WAGE_RATE_OF_PAY_TO',\n",
       " 'WAGE_UNIT_OF_PAY',\n",
       " 'H1B_DEPENDENT',\n",
       " 'WILLFUL_VIOLATOR',\n",
       " 'SUPPORT_H1B',\n",
       " 'LABOR_CON_AGREE',\n",
       " 'PUBLIC_DISCLOSURE_LOCATION',\n",
       " 'WORKSITE_CITY',\n",
       " 'WORKSITE_COUNTY',\n",
       " 'WORKSITE_STATE',\n",
       " 'WORKSITE_POSTAL_CODE',\n",
       " 'ORIGINAL_CERT_DATE',\n",
       " 'Year']"
      ]
     },
     "execution_count": 63,
     "metadata": {},
     "output_type": "execute_result"
    }
   ],
   "source": [
    "df2017.columns.values.tolist()"
   ]
  },
  {
   "cell_type": "markdown",
   "id": "682aed07",
   "metadata": {},
   "source": [
    "* Creating a new dataset with required columns only"
   ]
  },
  {
   "cell_type": "code",
   "execution_count": null,
   "id": "2c9dba07",
   "metadata": {},
   "outputs": [],
   "source": [
    "df2019 = df[['CASE_NUMBER',\n",
    " 'CASE_STATUS',\n",
    " 'CASE_SUBMITTED',\n",
    " 'DECISION_DATE',\n",
    " 'VISA_CLASS',\n",
    " 'JOB_TITLE',\n",
    "\n",
    " 'FULL_TIME_POSITION',\n",
    " 'PERIOD_OF_EMPLOYMENT_START_DATE',\n",
    " 'PERIOD_OF_EMPLOYMENT_END_DATE',\n",
    " 'TOTAL_WORKER_POSITIONS',\n",
    " 'NEW_EMPLOYMENT',\n",
    " 'CONTINUED_EMPLOYMENT',\n",
    " 'CHANGE_PREVIOUS_EMPLOYMENT',\n",
    " 'NEW_CONCURRENT_EMPLOYMENT',\n",
    " 'CHANGE_EMPLOYER',\n",
    " 'AMENDED_PETITION',\n",
    " 'EMPLOYER_NAME',\n",
    " 'EMPLOYER_ADDRESS1',\n",
    " 'EMPLOYER_CITY',\n",
    " 'EMPLOYER_STATE',\n",
    "'EMPLOYER_COUNTRY',\n",
    " 'PREVAILING_WAGE_1','PW_UNIT_OF_PAY_1','Year']]"
   ]
  },
  {
   "cell_type": "code",
   "execution_count": null,
   "id": "43864e8b",
   "metadata": {},
   "outputs": [],
   "source": [
    "df2018.head(5)"
   ]
  },
  {
   "cell_type": "code",
   "execution_count": 61,
   "id": "8159a138",
   "metadata": {},
   "outputs": [],
   "source": [
    "df2018 = df2018[['CASE_NUMBER',\n",
    " 'CASE_STATUS',\n",
    " 'CASE_SUBMITTED',\n",
    " 'DECISION_DATE',\n",
    " 'VISA_CLASS',\n",
    " 'JOB_TITLE',\n",
    " 'FULL_TIME_POSITION',\n",
    " 'EMPLOYMENT_START_DATE',\n",
    " 'EMPLOYMENT_END_DATE',\n",
    " 'TOTAL_WORKERS',\n",
    " 'NEW_EMPLOYMENT',\n",
    " 'CONTINUED_EMPLOYMENT',\n",
    " 'CHANGE_PREVIOUS_EMPLOYMENT',\n",
    " 'NEW_CONCURRENT_EMP',\n",
    " 'CHANGE_EMPLOYER',\n",
    " 'AMENDED_PETITION',\n",
    " 'EMPLOYER_NAME',\n",
    " 'EMPLOYER_ADDRESS',\n",
    " 'EMPLOYER_CITY',\n",
    " 'EMPLOYER_STATE',\n",
    "'EMPLOYER_COUNTRY',\n",
    " 'PREVAILING_WAGE','PW_UNIT_OF_PAY','Year']]"
   ]
  },
  {
   "cell_type": "code",
   "execution_count": 84,
   "id": "bb13f708",
   "metadata": {},
   "outputs": [
    {
     "data": {
      "text/html": [
       "<div>\n",
       "<style scoped>\n",
       "    .dataframe tbody tr th:only-of-type {\n",
       "        vertical-align: middle;\n",
       "    }\n",
       "\n",
       "    .dataframe tbody tr th {\n",
       "        vertical-align: top;\n",
       "    }\n",
       "\n",
       "    .dataframe thead th {\n",
       "        text-align: right;\n",
       "    }\n",
       "</style>\n",
       "<table border=\"1\" class=\"dataframe\">\n",
       "  <thead>\n",
       "    <tr style=\"text-align: right;\">\n",
       "      <th></th>\n",
       "      <th>CASE_NUMBER</th>\n",
       "      <th>CASE_STATUS</th>\n",
       "      <th>CASE_SUBMITTED</th>\n",
       "      <th>DECISION_DATE</th>\n",
       "      <th>VISA_CLASS</th>\n",
       "      <th>JOB_TITLE</th>\n",
       "      <th>FULL_TIME_POSITION</th>\n",
       "      <th>EMPLOYMENT_START_DATE</th>\n",
       "      <th>EMPLOYMENT_END_DATE</th>\n",
       "      <th>TOTAL_WORKERS</th>\n",
       "      <th>...</th>\n",
       "      <th>AMENDED_PETITION</th>\n",
       "      <th>EMPLOYER_NAME</th>\n",
       "      <th>EMPLOYER_ADDRESS</th>\n",
       "      <th>EMPLOYER_CITY</th>\n",
       "      <th>EMPLOYER_STATE</th>\n",
       "      <th>EMPLOYER_COUNTRY</th>\n",
       "      <th>PREVAILING_WAGE</th>\n",
       "      <th>PW_UNIT_OF_PAY</th>\n",
       "      <th>Year</th>\n",
       "      <th>NEW_CONCURRENT_EMPLOYMENT</th>\n",
       "    </tr>\n",
       "  </thead>\n",
       "  <tbody>\n",
       "    <tr>\n",
       "      <th>0</th>\n",
       "      <td>I-200-18026-338377</td>\n",
       "      <td>CERTIFIED</td>\n",
       "      <td>2018-01-29</td>\n",
       "      <td>2018-02-02</td>\n",
       "      <td>H-1B</td>\n",
       "      <td>SOFTWARE ENGINEER</td>\n",
       "      <td>Y</td>\n",
       "      <td>2018-07-28</td>\n",
       "      <td>2021-07-27</td>\n",
       "      <td>1</td>\n",
       "      <td>...</td>\n",
       "      <td>0</td>\n",
       "      <td>MICROSOFT CORPORATION</td>\n",
       "      <td>1 MICROSOFT WAY</td>\n",
       "      <td>REDMOND</td>\n",
       "      <td>WA</td>\n",
       "      <td>UNITED STATES OF AMERICA</td>\n",
       "      <td>112549.0</td>\n",
       "      <td>Year</td>\n",
       "      <td>2018</td>\n",
       "      <td>0</td>\n",
       "    </tr>\n",
       "    <tr>\n",
       "      <th>1</th>\n",
       "      <td>I-200-17296-353451</td>\n",
       "      <td>CERTIFIED</td>\n",
       "      <td>2017-10-23</td>\n",
       "      <td>2017-10-27</td>\n",
       "      <td>H-1B</td>\n",
       "      <td>TAX SENIOR</td>\n",
       "      <td>Y</td>\n",
       "      <td>2017-11-06</td>\n",
       "      <td>2020-11-06</td>\n",
       "      <td>1</td>\n",
       "      <td>...</td>\n",
       "      <td>0</td>\n",
       "      <td>ERNST &amp; YOUNG U.S. LLP</td>\n",
       "      <td>200 PLAZA DRIVE</td>\n",
       "      <td>SECAUCUS</td>\n",
       "      <td>NJ</td>\n",
       "      <td>UNITED STATES OF AMERICA</td>\n",
       "      <td>79976.0</td>\n",
       "      <td>Year</td>\n",
       "      <td>2018</td>\n",
       "      <td>0</td>\n",
       "    </tr>\n",
       "  </tbody>\n",
       "</table>\n",
       "<p>2 rows × 25 columns</p>\n",
       "</div>"
      ],
      "text/plain": [
       "          CASE_NUMBER CASE_STATUS CASE_SUBMITTED DECISION_DATE VISA_CLASS  \\\n",
       "0  I-200-18026-338377   CERTIFIED     2018-01-29    2018-02-02       H-1B   \n",
       "1  I-200-17296-353451   CERTIFIED     2017-10-23    2017-10-27       H-1B   \n",
       "\n",
       "           JOB_TITLE FULL_TIME_POSITION EMPLOYMENT_START_DATE  \\\n",
       "0  SOFTWARE ENGINEER                  Y            2018-07-28   \n",
       "1         TAX SENIOR                  Y            2017-11-06   \n",
       "\n",
       "  EMPLOYMENT_END_DATE  TOTAL_WORKERS  ...  AMENDED_PETITION  \\\n",
       "0          2021-07-27              1  ...                 0   \n",
       "1          2020-11-06              1  ...                 0   \n",
       "\n",
       "            EMPLOYER_NAME  EMPLOYER_ADDRESS  EMPLOYER_CITY  EMPLOYER_STATE  \\\n",
       "0   MICROSOFT CORPORATION   1 MICROSOFT WAY        REDMOND              WA   \n",
       "1  ERNST & YOUNG U.S. LLP   200 PLAZA DRIVE       SECAUCUS              NJ   \n",
       "\n",
       "           EMPLOYER_COUNTRY PREVAILING_WAGE PW_UNIT_OF_PAY  Year  \\\n",
       "0  UNITED STATES OF AMERICA        112549.0           Year  2018   \n",
       "1  UNITED STATES OF AMERICA         79976.0           Year  2018   \n",
       "\n",
       "  NEW_CONCURRENT_EMPLOYMENT  \n",
       "0                         0  \n",
       "1                         0  \n",
       "\n",
       "[2 rows x 25 columns]"
      ]
     },
     "execution_count": 84,
     "metadata": {},
     "output_type": "execute_result"
    }
   ],
   "source": [
    "df20181 = df2018.rename(columns = {'NEW_CONCURRENT_EMP':'NEW_CONCURRENT_EMPLOYMENT'})\n",
    "\n",
    "df20181.head(2)"
   ]
  },
  {
   "cell_type": "code",
   "execution_count": 65,
   "id": "788ce639",
   "metadata": {},
   "outputs": [],
   "source": [
    "df2017 = df2017[['CASE_NUMBER',\n",
    " 'CASE_STATUS',\n",
    " 'CASE_SUBMITTED',\n",
    " 'DECISION_DATE',\n",
    " 'VISA_CLASS',\n",
    " 'JOB_TITLE',\n",
    " 'FULL_TIME_POSITION',\n",
    " 'EMPLOYMENT_START_DATE',\n",
    " 'EMPLOYMENT_END_DATE',\n",
    " 'TOTAL_WORKERS',\n",
    " 'NEW_EMPLOYMENT',\n",
    " 'CONTINUED_EMPLOYMENT',\n",
    " 'CHANGE_PREVIOUS_EMPLOYMENT',\n",
    " 'NEW_CONCURRENT_EMPLOYMENT',\n",
    " 'CHANGE_EMPLOYER',\n",
    " 'AMENDED_PETITION',\n",
    " 'EMPLOYER_NAME',\n",
    " 'EMPLOYER_ADDRESS',\n",
    " 'EMPLOYER_CITY',\n",
    " 'EMPLOYER_STATE',\n",
    "'EMPLOYER_COUNTRY',\n",
    " 'PREVAILING_WAGE','PW_UNIT_OF_PAY','Year']]"
   ]
  },
  {
   "cell_type": "code",
   "execution_count": 73,
   "id": "622aa0ea",
   "metadata": {
    "collapsed": true
   },
   "outputs": [
    {
     "data": {
      "text/plain": [
       "CASE_NUMBER                   0\n",
       "CASE_STATUS                   0\n",
       "CASE_SUBMITTED                0\n",
       "DECISION_DATE                 0\n",
       "VISA_CLASS                    0\n",
       "JOB_TITLE                     0\n",
       "FULL_TIME_POSITION            0\n",
       "EMPLOYMENT_START_DATE         0\n",
       "EMPLOYMENT_END_DATE           0\n",
       "TOTAL_WORKERS                 0\n",
       "NEW_EMPLOYMENT                0\n",
       "CONTINUED_EMPLOYMENT          0\n",
       "CHANGE_PREVIOUS_EMPLOYMENT    0\n",
       "NEW_CONCURRENT_EMPLOYMENT     0\n",
       "CHANGE_EMPLOYER               0\n",
       "AMENDED_PETITION              0\n",
       "EMPLOYER_NAME                 0\n",
       "EMPLOYER_ADDRESS              0\n",
       "EMPLOYER_CITY                 0\n",
       "EMPLOYER_STATE                0\n",
       "EMPLOYER_COUNTRY              0\n",
       "PREVAILING_WAGE               0\n",
       "PW_UNIT_OF_PAY                0\n",
       "Year                          0\n",
       "dtype: int64"
      ]
     },
     "execution_count": 73,
     "metadata": {},
     "output_type": "execute_result"
    }
   ],
   "source": [
    "df2019.isna().sum()\n",
    "df2018.isna().sum()\n",
    "df2017.isna().sum()"
   ]
  },
  {
   "cell_type": "code",
   "execution_count": null,
   "id": "3fa70896",
   "metadata": {},
   "outputs": [],
   "source": [
    "df2019 = df2019.dropna()\n",
    "df2018 = df2018.dropna()\n",
    "df2017 = df2017.dropna()"
   ]
  },
  {
   "cell_type": "code",
   "execution_count": 75,
   "id": "551c889e",
   "metadata": {},
   "outputs": [
    {
     "data": {
      "text/plain": [
       "(528020, 24)"
      ]
     },
     "execution_count": 75,
     "metadata": {},
     "output_type": "execute_result"
    }
   ],
   "source": [
    "df2019.shape"
   ]
  },
  {
   "cell_type": "code",
   "execution_count": 76,
   "id": "19d592aa",
   "metadata": {},
   "outputs": [
    {
     "data": {
      "text/plain": [
       "(654204, 24)"
      ]
     },
     "execution_count": 76,
     "metadata": {},
     "output_type": "execute_result"
    }
   ],
   "source": [
    "df2018.shape"
   ]
  },
  {
   "cell_type": "code",
   "execution_count": 77,
   "id": "391f3ec7",
   "metadata": {},
   "outputs": [
    {
     "data": {
      "text/plain": [
       "(528020, 24)"
      ]
     },
     "execution_count": 77,
     "metadata": {},
     "output_type": "execute_result"
    }
   ],
   "source": [
    "df2017.shape"
   ]
  },
  {
   "cell_type": "code",
   "execution_count": 78,
   "id": "c56c4d71",
   "metadata": {},
   "outputs": [],
   "source": [
    "dffinal = pd.concat([df2019, df2018,df2017])"
   ]
  },
  {
   "cell_type": "code",
   "execution_count": 79,
   "id": "091d7862",
   "metadata": {},
   "outputs": [
    {
     "data": {
      "text/plain": [
       "(1813542, 31)"
      ]
     },
     "execution_count": 79,
     "metadata": {},
     "output_type": "execute_result"
    }
   ],
   "source": [
    "dffinal.shape"
   ]
  },
  {
   "cell_type": "markdown",
   "id": "857f9d8b",
   "metadata": {},
   "source": [
    "* We need only H1-B dataset, so filtering the data"
   ]
  },
  {
   "cell_type": "code",
   "execution_count": 22,
   "id": "e9a4fd30",
   "metadata": {},
   "outputs": [],
   "source": [
    "df2 = df2[df2['VISA_CLASS'] == 'H-1B']"
   ]
  },
  {
   "cell_type": "code",
   "execution_count": 37,
   "id": "918d0568",
   "metadata": {
    "collapsed": true
   },
   "outputs": [
    {
     "data": {
      "text/html": [
       "<div>\n",
       "<style scoped>\n",
       "    .dataframe tbody tr th:only-of-type {\n",
       "        vertical-align: middle;\n",
       "    }\n",
       "\n",
       "    .dataframe tbody tr th {\n",
       "        vertical-align: top;\n",
       "    }\n",
       "\n",
       "    .dataframe thead th {\n",
       "        text-align: right;\n",
       "    }\n",
       "</style>\n",
       "<table border=\"1\" class=\"dataframe\">\n",
       "  <thead>\n",
       "    <tr style=\"text-align: right;\">\n",
       "      <th></th>\n",
       "      <th>CASE_NUMBER</th>\n",
       "      <th>CASE_STATUS</th>\n",
       "      <th>CASE_SUBMITTED</th>\n",
       "      <th>DECISION_DATE</th>\n",
       "      <th>VISA_CLASS</th>\n",
       "      <th>JOB_TITLE</th>\n",
       "      <th>SOC_CODE</th>\n",
       "      <th>SOC_TITLE</th>\n",
       "      <th>FULL_TIME_POSITION</th>\n",
       "      <th>PERIOD_OF_EMPLOYMENT_START_DATE</th>\n",
       "      <th>...</th>\n",
       "      <th>AMENDED_PETITION</th>\n",
       "      <th>EMPLOYER_NAME</th>\n",
       "      <th>EMPLOYER_ADDRESS1</th>\n",
       "      <th>EMPLOYER_CITY</th>\n",
       "      <th>EMPLOYER_STATE</th>\n",
       "      <th>EMPLOYER_COUNTRY</th>\n",
       "      <th>EMPLOYER_POSTAL_CODE</th>\n",
       "      <th>WAGE_UNIT_OF_PAY_1</th>\n",
       "      <th>PREVAILING_WAGE_1</th>\n",
       "      <th>PW_UNIT_OF_PAY_1</th>\n",
       "    </tr>\n",
       "  </thead>\n",
       "  <tbody>\n",
       "    <tr>\n",
       "      <th>0</th>\n",
       "      <td>I-200-16092-327771</td>\n",
       "      <td>WITHDRAWN</td>\n",
       "      <td>2016-04-08 00:00:00</td>\n",
       "      <td>2019-04-30 00:00:00</td>\n",
       "      <td>H-1B</td>\n",
       "      <td>ASSOCIATE CREATIVE DIRECTOR</td>\n",
       "      <td>11-2011</td>\n",
       "      <td>ADVERTISING AND PROMOTIONS MANAGERS</td>\n",
       "      <td>Y</td>\n",
       "      <td>2016-10-01 00:00:00</td>\n",
       "      <td>...</td>\n",
       "      <td>0</td>\n",
       "      <td>R/GA MEDIA GROUP, INC.</td>\n",
       "      <td>450 WEST 33RD STREET</td>\n",
       "      <td>NEW YORK</td>\n",
       "      <td>NY</td>\n",
       "      <td>NaN</td>\n",
       "      <td>10001</td>\n",
       "      <td>Year</td>\n",
       "      <td>NaN</td>\n",
       "      <td>NaN</td>\n",
       "    </tr>\n",
       "    <tr>\n",
       "      <th>5</th>\n",
       "      <td>I-200-18150-993604</td>\n",
       "      <td>WITHDRAWN</td>\n",
       "      <td>2018-05-30 00:00:00</td>\n",
       "      <td>2019-08-08 00:00:00</td>\n",
       "      <td>H-1B</td>\n",
       "      <td>GLOBAL BRAND SUPERVISOR</td>\n",
       "      <td>11-2011</td>\n",
       "      <td>ADVERTISING AND PROMOTIONS MANAGERS</td>\n",
       "      <td>Y</td>\n",
       "      <td>2018-07-13 00:00:00</td>\n",
       "      <td>...</td>\n",
       "      <td>0</td>\n",
       "      <td>MCCANN-ERICKSON MARKETING, INC.</td>\n",
       "      <td>622 THIRD AVENUE</td>\n",
       "      <td>NEW YORK</td>\n",
       "      <td>NY</td>\n",
       "      <td>NaN</td>\n",
       "      <td>10017</td>\n",
       "      <td>Year</td>\n",
       "      <td>NaN</td>\n",
       "      <td>NaN</td>\n",
       "    </tr>\n",
       "    <tr>\n",
       "      <th>6</th>\n",
       "      <td>I-200-18289-307616</td>\n",
       "      <td>WITHDRAWN</td>\n",
       "      <td>2018-10-19 13:49:03</td>\n",
       "      <td>2018-10-19 13:49:03</td>\n",
       "      <td>H-1B</td>\n",
       "      <td>DIRECTOR OF BUSINESS DEVELOPMENT</td>\n",
       "      <td>11-2011</td>\n",
       "      <td>ADVERTISING AND PROMOTIONS MANAGERS</td>\n",
       "      <td>Y</td>\n",
       "      <td>03/07/2019</td>\n",
       "      <td>...</td>\n",
       "      <td>0</td>\n",
       "      <td>MH SUB I LLC</td>\n",
       "      <td>909 N. SEPULVEDA BOULEVARD</td>\n",
       "      <td>EL SEGUNDO</td>\n",
       "      <td>CA</td>\n",
       "      <td>UNITED STATES OF AMERICA</td>\n",
       "      <td>90245</td>\n",
       "      <td>Year</td>\n",
       "      <td>97365.0</td>\n",
       "      <td>Year</td>\n",
       "    </tr>\n",
       "    <tr>\n",
       "      <th>7</th>\n",
       "      <td>I-200-19015-877040</td>\n",
       "      <td>WITHDRAWN</td>\n",
       "      <td>2019-01-15 15:12:53</td>\n",
       "      <td>2019-01-15 15:12:53</td>\n",
       "      <td>H-1B</td>\n",
       "      <td>HEAD OF BUSINESS DEVELOPMENT</td>\n",
       "      <td>11-2011</td>\n",
       "      <td>ADVERTISING AND PROMOTIONS MANAGERS</td>\n",
       "      <td>Y</td>\n",
       "      <td>2019-05-27 00:00:00</td>\n",
       "      <td>...</td>\n",
       "      <td>0</td>\n",
       "      <td>KIIP, INC.</td>\n",
       "      <td>970 FOLSOM STREET</td>\n",
       "      <td>SAN FRANCISCO</td>\n",
       "      <td>CA</td>\n",
       "      <td>UNITED STATES OF AMERICA</td>\n",
       "      <td>94107</td>\n",
       "      <td>Year</td>\n",
       "      <td>131685.0</td>\n",
       "      <td>Year</td>\n",
       "    </tr>\n",
       "    <tr>\n",
       "      <th>8</th>\n",
       "      <td>I-200-19031-693896</td>\n",
       "      <td>WITHDRAWN</td>\n",
       "      <td>2019-01-31 16:32:00</td>\n",
       "      <td>2019-01-31 16:32:00</td>\n",
       "      <td>H-1B</td>\n",
       "      <td>ACCOUNT DIRECTOR, SOCIAL MEDIA</td>\n",
       "      <td>11-2011</td>\n",
       "      <td>ADVERTISING AND PROMOTIONS MANAGERS</td>\n",
       "      <td>Y</td>\n",
       "      <td>2019-02-23 00:00:00</td>\n",
       "      <td>...</td>\n",
       "      <td>0</td>\n",
       "      <td>SUNSHINE SACHS &amp; ASSOCIATES WEST, LLC</td>\n",
       "      <td>720 COLE AVENUE</td>\n",
       "      <td>LOS ANGELES</td>\n",
       "      <td>CA</td>\n",
       "      <td>UNITED STATES OF AMERICA</td>\n",
       "      <td>90038</td>\n",
       "      <td>Year</td>\n",
       "      <td>97365.0</td>\n",
       "      <td>Year</td>\n",
       "    </tr>\n",
       "  </tbody>\n",
       "</table>\n",
       "<p>5 rows × 27 columns</p>\n",
       "</div>"
      ],
      "text/plain": [
       "          CASE_NUMBER CASE_STATUS      CASE_SUBMITTED       DECISION_DATE  \\\n",
       "0  I-200-16092-327771   WITHDRAWN 2016-04-08 00:00:00 2019-04-30 00:00:00   \n",
       "5  I-200-18150-993604   WITHDRAWN 2018-05-30 00:00:00 2019-08-08 00:00:00   \n",
       "6  I-200-18289-307616   WITHDRAWN 2018-10-19 13:49:03 2018-10-19 13:49:03   \n",
       "7  I-200-19015-877040   WITHDRAWN 2019-01-15 15:12:53 2019-01-15 15:12:53   \n",
       "8  I-200-19031-693896   WITHDRAWN 2019-01-31 16:32:00 2019-01-31 16:32:00   \n",
       "\n",
       "  VISA_CLASS                         JOB_TITLE SOC_CODE  \\\n",
       "0       H-1B       ASSOCIATE CREATIVE DIRECTOR  11-2011   \n",
       "5       H-1B           GLOBAL BRAND SUPERVISOR  11-2011   \n",
       "6       H-1B  DIRECTOR OF BUSINESS DEVELOPMENT  11-2011   \n",
       "7       H-1B      HEAD OF BUSINESS DEVELOPMENT  11-2011   \n",
       "8       H-1B    ACCOUNT DIRECTOR, SOCIAL MEDIA  11-2011   \n",
       "\n",
       "                             SOC_TITLE FULL_TIME_POSITION  \\\n",
       "0  ADVERTISING AND PROMOTIONS MANAGERS                  Y   \n",
       "5  ADVERTISING AND PROMOTIONS MANAGERS                  Y   \n",
       "6  ADVERTISING AND PROMOTIONS MANAGERS                  Y   \n",
       "7  ADVERTISING AND PROMOTIONS MANAGERS                  Y   \n",
       "8  ADVERTISING AND PROMOTIONS MANAGERS                  Y   \n",
       "\n",
       "  PERIOD_OF_EMPLOYMENT_START_DATE  ... AMENDED_PETITION  \\\n",
       "0             2016-10-01 00:00:00  ...                0   \n",
       "5             2018-07-13 00:00:00  ...                0   \n",
       "6                      03/07/2019  ...                0   \n",
       "7             2019-05-27 00:00:00  ...                0   \n",
       "8             2019-02-23 00:00:00  ...                0   \n",
       "\n",
       "                           EMPLOYER_NAME           EMPLOYER_ADDRESS1  \\\n",
       "0                 R/GA MEDIA GROUP, INC.        450 WEST 33RD STREET   \n",
       "5        MCCANN-ERICKSON MARKETING, INC.            622 THIRD AVENUE   \n",
       "6                           MH SUB I LLC  909 N. SEPULVEDA BOULEVARD   \n",
       "7                             KIIP, INC.           970 FOLSOM STREET   \n",
       "8  SUNSHINE SACHS & ASSOCIATES WEST, LLC             720 COLE AVENUE   \n",
       "\n",
       "   EMPLOYER_CITY  EMPLOYER_STATE          EMPLOYER_COUNTRY  \\\n",
       "0       NEW YORK              NY                       NaN   \n",
       "5       NEW YORK              NY                       NaN   \n",
       "6     EL SEGUNDO              CA  UNITED STATES OF AMERICA   \n",
       "7  SAN FRANCISCO              CA  UNITED STATES OF AMERICA   \n",
       "8    LOS ANGELES              CA  UNITED STATES OF AMERICA   \n",
       "\n",
       "   EMPLOYER_POSTAL_CODE  WAGE_UNIT_OF_PAY_1 PREVAILING_WAGE_1 PW_UNIT_OF_PAY_1  \n",
       "0                 10001                Year               NaN              NaN  \n",
       "5                 10017                Year               NaN              NaN  \n",
       "6                 90245                Year           97365.0             Year  \n",
       "7                 94107                Year          131685.0             Year  \n",
       "8                 90038                Year           97365.0             Year  \n",
       "\n",
       "[5 rows x 27 columns]"
      ]
     },
     "execution_count": 37,
     "metadata": {},
     "output_type": "execute_result"
    }
   ],
   "source": [
    "df2.head(5)"
   ]
  },
  {
   "cell_type": "markdown",
   "id": "aa275518",
   "metadata": {},
   "source": [
    "* Looking at the Target variable. We can replace or delete the unwanted data. Here, for example (CERTIFIED-WITHDRAWN, WITHDRAWN)"
   ]
  },
  {
   "cell_type": "code",
   "execution_count": 86,
   "id": "f6743d5d",
   "metadata": {},
   "outputs": [
    {
     "data": {
      "text/plain": [
       "array([nan, 'UNITED STATES OF AMERICA', 'CANADA', 'TURKEY', 'INDIA',\n",
       "       'GUATEMALA', 'AFGHANISTAN', 'ALBANIA', 'AUSTRALIA'], dtype=object)"
      ]
     },
     "execution_count": 86,
     "metadata": {},
     "output_type": "execute_result"
    }
   ],
   "source": [
    "df2.EMPLOYER_COUNTRY.unique()"
   ]
  },
  {
   "cell_type": "code",
   "execution_count": 24,
   "id": "d75c1e63",
   "metadata": {},
   "outputs": [
    {
     "data": {
      "text/plain": [
       "array(['R/GA MEDIA GROUP, INC.', 'MCCANN-ERICKSON MARKETING, INC.',\n",
       "       'MH SUB I LLC', ..., 'EVEREST CONSULTANTS, INC.',\n",
       "       'EMBRAER EXECUTIVE AIRCRAFT, INC.',\n",
       "       'PORT LOGISTICS TERMINAL OPERATIONS, LLC'], dtype=object)"
      ]
     },
     "execution_count": 24,
     "metadata": {},
     "output_type": "execute_result"
    }
   ],
   "source": [
    "df2.EMPLOYER_NAME.unique()"
   ]
  },
  {
   "cell_type": "code",
   "execution_count": 15,
   "id": "64abe91b",
   "metadata": {},
   "outputs": [],
   "source": [
    "df3 = df2[['TOTAL_WORKER_POSITIONS','EMPLOYER_NAME']]"
   ]
  },
  {
   "cell_type": "code",
   "execution_count": 20,
   "id": "95a5a87a",
   "metadata": {
    "collapsed": true
   },
   "outputs": [
    {
     "ename": "AttributeError",
     "evalue": "'DataFrame' object has no attribute 'unique'",
     "output_type": "error",
     "traceback": [
      "\u001b[1;31m---------------------------------------------------------------------------\u001b[0m",
      "\u001b[1;31mAttributeError\u001b[0m                            Traceback (most recent call last)",
      "\u001b[1;32m~\\AppData\\Local\\Temp\\ipykernel_37108\\1917749242.py\u001b[0m in \u001b[0;36m<module>\u001b[1;34m\u001b[0m\n\u001b[1;32m----> 1\u001b[1;33m \u001b[0mdf3\u001b[0m\u001b[1;33m.\u001b[0m\u001b[0msort_values\u001b[0m\u001b[1;33m(\u001b[0m\u001b[0mby\u001b[0m\u001b[1;33m=\u001b[0m\u001b[1;33m[\u001b[0m\u001b[1;34m'TOTAL_WORKER_POSITIONS'\u001b[0m\u001b[1;33m]\u001b[0m\u001b[1;33m,\u001b[0m \u001b[0mascending\u001b[0m\u001b[1;33m=\u001b[0m\u001b[1;32mFalse\u001b[0m\u001b[1;33m)\u001b[0m\u001b[1;33m.\u001b[0m\u001b[0munique\u001b[0m\u001b[1;33m(\u001b[0m\u001b[1;33m)\u001b[0m\u001b[1;33m\u001b[0m\u001b[1;33m\u001b[0m\u001b[0m\n\u001b[0m",
      "\u001b[1;32m~\\anaconda3\\lib\\site-packages\\pandas\\core\\generic.py\u001b[0m in \u001b[0;36m__getattr__\u001b[1;34m(self, name)\u001b[0m\n\u001b[0;32m   5573\u001b[0m         ):\n\u001b[0;32m   5574\u001b[0m             \u001b[1;32mreturn\u001b[0m \u001b[0mself\u001b[0m\u001b[1;33m[\u001b[0m\u001b[0mname\u001b[0m\u001b[1;33m]\u001b[0m\u001b[1;33m\u001b[0m\u001b[1;33m\u001b[0m\u001b[0m\n\u001b[1;32m-> 5575\u001b[1;33m         \u001b[1;32mreturn\u001b[0m \u001b[0mobject\u001b[0m\u001b[1;33m.\u001b[0m\u001b[0m__getattribute__\u001b[0m\u001b[1;33m(\u001b[0m\u001b[0mself\u001b[0m\u001b[1;33m,\u001b[0m \u001b[0mname\u001b[0m\u001b[1;33m)\u001b[0m\u001b[1;33m\u001b[0m\u001b[1;33m\u001b[0m\u001b[0m\n\u001b[0m\u001b[0;32m   5576\u001b[0m \u001b[1;33m\u001b[0m\u001b[0m\n\u001b[0;32m   5577\u001b[0m     \u001b[1;32mdef\u001b[0m \u001b[0m__setattr__\u001b[0m\u001b[1;33m(\u001b[0m\u001b[0mself\u001b[0m\u001b[1;33m,\u001b[0m \u001b[0mname\u001b[0m\u001b[1;33m:\u001b[0m \u001b[0mstr\u001b[0m\u001b[1;33m,\u001b[0m \u001b[0mvalue\u001b[0m\u001b[1;33m)\u001b[0m \u001b[1;33m->\u001b[0m \u001b[1;32mNone\u001b[0m\u001b[1;33m:\u001b[0m\u001b[1;33m\u001b[0m\u001b[1;33m\u001b[0m\u001b[0m\n",
      "\u001b[1;31mAttributeError\u001b[0m: 'DataFrame' object has no attribute 'unique'"
     ]
    }
   ],
   "source": [
    "df3.sort_values(by=['TOTAL_WORKER_POSITIONS'], ascending=False)"
   ]
  },
  {
   "cell_type": "code",
   "execution_count": 38,
   "id": "19061d4f",
   "metadata": {
    "collapsed": true
   },
   "outputs": [
    {
     "ename": "KeyError",
     "evalue": "'EMPLOYER_COUNTRY'",
     "output_type": "error",
     "traceback": [
      "\u001b[1;31m---------------------------------------------------------------------------\u001b[0m",
      "\u001b[1;31mKeyError\u001b[0m                                  Traceback (most recent call last)",
      "\u001b[1;32m~\\AppData\\Local\\Temp\\ipykernel_37108\\1383178707.py\u001b[0m in \u001b[0;36m<module>\u001b[1;34m\u001b[0m\n\u001b[1;32m----> 1\u001b[1;33m \u001b[0mdfvis1\u001b[0m \u001b[1;33m=\u001b[0m \u001b[0mdf3\u001b[0m\u001b[1;33m.\u001b[0m\u001b[0mgroupby\u001b[0m\u001b[1;33m(\u001b[0m\u001b[1;33m[\u001b[0m\u001b[1;34m'EMPLOYER_NAME'\u001b[0m\u001b[1;33m,\u001b[0m\u001b[1;34m'EMPLOYER_COUNTRY'\u001b[0m\u001b[1;33m]\u001b[0m\u001b[1;33m)\u001b[0m\u001b[1;33m.\u001b[0m\u001b[0msize\u001b[0m\u001b[1;33m(\u001b[0m\u001b[1;33m)\u001b[0m\u001b[1;33m.\u001b[0m\u001b[0mreset_index\u001b[0m\u001b[1;33m(\u001b[0m\u001b[0mname\u001b[0m\u001b[1;33m=\u001b[0m\u001b[1;34m'Freq'\u001b[0m\u001b[1;33m)\u001b[0m\u001b[1;33m\u001b[0m\u001b[1;33m\u001b[0m\u001b[0m\n\u001b[0m",
      "\u001b[1;32m~\\anaconda3\\lib\\site-packages\\pandas\\core\\frame.py\u001b[0m in \u001b[0;36mgroupby\u001b[1;34m(self, by, axis, level, as_index, sort, group_keys, squeeze, observed, dropna)\u001b[0m\n\u001b[0;32m   7719\u001b[0m         \u001b[1;31m# error: Argument \"squeeze\" to \"DataFrameGroupBy\" has incompatible type\u001b[0m\u001b[1;33m\u001b[0m\u001b[1;33m\u001b[0m\u001b[0m\n\u001b[0;32m   7720\u001b[0m         \u001b[1;31m# \"Union[bool, NoDefault]\"; expected \"bool\"\u001b[0m\u001b[1;33m\u001b[0m\u001b[1;33m\u001b[0m\u001b[0m\n\u001b[1;32m-> 7721\u001b[1;33m         return DataFrameGroupBy(\n\u001b[0m\u001b[0;32m   7722\u001b[0m             \u001b[0mobj\u001b[0m\u001b[1;33m=\u001b[0m\u001b[0mself\u001b[0m\u001b[1;33m,\u001b[0m\u001b[1;33m\u001b[0m\u001b[1;33m\u001b[0m\u001b[0m\n\u001b[0;32m   7723\u001b[0m             \u001b[0mkeys\u001b[0m\u001b[1;33m=\u001b[0m\u001b[0mby\u001b[0m\u001b[1;33m,\u001b[0m\u001b[1;33m\u001b[0m\u001b[1;33m\u001b[0m\u001b[0m\n",
      "\u001b[1;32m~\\anaconda3\\lib\\site-packages\\pandas\\core\\groupby\\groupby.py\u001b[0m in \u001b[0;36m__init__\u001b[1;34m(self, obj, keys, axis, level, grouper, exclusions, selection, as_index, sort, group_keys, squeeze, observed, mutated, dropna)\u001b[0m\n\u001b[0;32m    880\u001b[0m             \u001b[1;32mfrom\u001b[0m \u001b[0mpandas\u001b[0m\u001b[1;33m.\u001b[0m\u001b[0mcore\u001b[0m\u001b[1;33m.\u001b[0m\u001b[0mgroupby\u001b[0m\u001b[1;33m.\u001b[0m\u001b[0mgrouper\u001b[0m \u001b[1;32mimport\u001b[0m \u001b[0mget_grouper\u001b[0m\u001b[1;33m\u001b[0m\u001b[1;33m\u001b[0m\u001b[0m\n\u001b[0;32m    881\u001b[0m \u001b[1;33m\u001b[0m\u001b[0m\n\u001b[1;32m--> 882\u001b[1;33m             grouper, exclusions, obj = get_grouper(\n\u001b[0m\u001b[0;32m    883\u001b[0m                 \u001b[0mobj\u001b[0m\u001b[1;33m,\u001b[0m\u001b[1;33m\u001b[0m\u001b[1;33m\u001b[0m\u001b[0m\n\u001b[0;32m    884\u001b[0m                 \u001b[0mkeys\u001b[0m\u001b[1;33m,\u001b[0m\u001b[1;33m\u001b[0m\u001b[1;33m\u001b[0m\u001b[0m\n",
      "\u001b[1;32m~\\anaconda3\\lib\\site-packages\\pandas\\core\\groupby\\grouper.py\u001b[0m in \u001b[0;36mget_grouper\u001b[1;34m(obj, key, axis, level, sort, observed, mutated, validate, dropna)\u001b[0m\n\u001b[0;32m    880\u001b[0m                 \u001b[0min_axis\u001b[0m\u001b[1;33m,\u001b[0m \u001b[0mlevel\u001b[0m\u001b[1;33m,\u001b[0m \u001b[0mgpr\u001b[0m \u001b[1;33m=\u001b[0m \u001b[1;32mFalse\u001b[0m\u001b[1;33m,\u001b[0m \u001b[0mgpr\u001b[0m\u001b[1;33m,\u001b[0m \u001b[1;32mNone\u001b[0m\u001b[1;33m\u001b[0m\u001b[1;33m\u001b[0m\u001b[0m\n\u001b[0;32m    881\u001b[0m             \u001b[1;32melse\u001b[0m\u001b[1;33m:\u001b[0m\u001b[1;33m\u001b[0m\u001b[1;33m\u001b[0m\u001b[0m\n\u001b[1;32m--> 882\u001b[1;33m                 \u001b[1;32mraise\u001b[0m \u001b[0mKeyError\u001b[0m\u001b[1;33m(\u001b[0m\u001b[0mgpr\u001b[0m\u001b[1;33m)\u001b[0m\u001b[1;33m\u001b[0m\u001b[1;33m\u001b[0m\u001b[0m\n\u001b[0m\u001b[0;32m    883\u001b[0m         \u001b[1;32melif\u001b[0m \u001b[0misinstance\u001b[0m\u001b[1;33m(\u001b[0m\u001b[0mgpr\u001b[0m\u001b[1;33m,\u001b[0m \u001b[0mGrouper\u001b[0m\u001b[1;33m)\u001b[0m \u001b[1;32mand\u001b[0m \u001b[0mgpr\u001b[0m\u001b[1;33m.\u001b[0m\u001b[0mkey\u001b[0m \u001b[1;32mis\u001b[0m \u001b[1;32mnot\u001b[0m \u001b[1;32mNone\u001b[0m\u001b[1;33m:\u001b[0m\u001b[1;33m\u001b[0m\u001b[1;33m\u001b[0m\u001b[0m\n\u001b[0;32m    884\u001b[0m             \u001b[1;31m# Add key to exclusions\u001b[0m\u001b[1;33m\u001b[0m\u001b[1;33m\u001b[0m\u001b[0m\n",
      "\u001b[1;31mKeyError\u001b[0m: 'EMPLOYER_COUNTRY'"
     ]
    }
   ],
   "source": [
    "dfvis1 = df3.groupby(['EMPLOYER_NAME']).size().reset_index(name='Freq')"
   ]
  },
  {
   "cell_type": "code",
   "execution_count": 35,
   "id": "e07e5ab7",
   "metadata": {},
   "outputs": [],
   "source": [
    "df3 = dfvis1.sort_values(by=['Freq'], ascending=False).head(15)"
   ]
  },
  {
   "cell_type": "code",
   "execution_count": 36,
   "id": "572bd153",
   "metadata": {},
   "outputs": [
    {
     "data": {
      "text/html": [
       "<div>\n",
       "<style scoped>\n",
       "    .dataframe tbody tr th:only-of-type {\n",
       "        vertical-align: middle;\n",
       "    }\n",
       "\n",
       "    .dataframe tbody tr th {\n",
       "        vertical-align: top;\n",
       "    }\n",
       "\n",
       "    .dataframe thead th {\n",
       "        text-align: right;\n",
       "    }\n",
       "</style>\n",
       "<table border=\"1\" class=\"dataframe\">\n",
       "  <thead>\n",
       "    <tr style=\"text-align: right;\">\n",
       "      <th></th>\n",
       "      <th>EMPLOYER_NAME</th>\n",
       "      <th>Freq</th>\n",
       "    </tr>\n",
       "  </thead>\n",
       "  <tbody>\n",
       "    <tr>\n",
       "      <th>13939</th>\n",
       "      <td>COGNIZANT TECHNOLOGY SOLUTIONS US CORP</td>\n",
       "      <td>28475</td>\n",
       "    </tr>\n",
       "    <tr>\n",
       "      <th>30833</th>\n",
       "      <td>INFOSYS LIMITED</td>\n",
       "      <td>21448</td>\n",
       "    </tr>\n",
       "    <tr>\n",
       "      <th>60243</th>\n",
       "      <td>TATA CONSULTANCY SERVICES LIMITED</td>\n",
       "      <td>11868</td>\n",
       "    </tr>\n",
       "    <tr>\n",
       "      <th>26078</th>\n",
       "      <td>GOOGLE LLC</td>\n",
       "      <td>10009</td>\n",
       "    </tr>\n",
       "    <tr>\n",
       "      <th>21201</th>\n",
       "      <td>ERNST &amp; YOUNG U.S. LLP</td>\n",
       "      <td>8801</td>\n",
       "    </tr>\n",
       "    <tr>\n",
       "      <th>10967</th>\n",
       "      <td>CAPGEMINI AMERICA INC</td>\n",
       "      <td>7878</td>\n",
       "    </tr>\n",
       "    <tr>\n",
       "      <th>17374</th>\n",
       "      <td>DELOITTE CONSULTING LLP</td>\n",
       "      <td>7793</td>\n",
       "    </tr>\n",
       "    <tr>\n",
       "      <th>3400</th>\n",
       "      <td>AMAZON.COM SERVICES, INC.</td>\n",
       "      <td>7267</td>\n",
       "    </tr>\n",
       "    <tr>\n",
       "      <th>40314</th>\n",
       "      <td>MICROSOFT CORPORATION</td>\n",
       "      <td>6040</td>\n",
       "    </tr>\n",
       "    <tr>\n",
       "      <th>936</th>\n",
       "      <td>ACCENTURE LLP</td>\n",
       "      <td>5653</td>\n",
       "    </tr>\n",
       "    <tr>\n",
       "      <th>29713</th>\n",
       "      <td>IBM CORPORATION</td>\n",
       "      <td>5057</td>\n",
       "    </tr>\n",
       "    <tr>\n",
       "      <th>27718</th>\n",
       "      <td>HCL AMERICA, INC.</td>\n",
       "      <td>4688</td>\n",
       "    </tr>\n",
       "    <tr>\n",
       "      <th>68707</th>\n",
       "      <td>WIPRO LIMITED</td>\n",
       "      <td>4291</td>\n",
       "    </tr>\n",
       "    <tr>\n",
       "      <th>35783</th>\n",
       "      <td>LARSEN &amp; TOUBRO INFOTECH LIMITED</td>\n",
       "      <td>3624</td>\n",
       "    </tr>\n",
       "    <tr>\n",
       "      <th>60434</th>\n",
       "      <td>TECH MAHINDRA (AMERICAS),INC.</td>\n",
       "      <td>2915</td>\n",
       "    </tr>\n",
       "  </tbody>\n",
       "</table>\n",
       "</div>"
      ],
      "text/plain": [
       "                                EMPLOYER_NAME   Freq\n",
       "13939  COGNIZANT TECHNOLOGY SOLUTIONS US CORP  28475\n",
       "30833                         INFOSYS LIMITED  21448\n",
       "60243       TATA CONSULTANCY SERVICES LIMITED  11868\n",
       "26078                              GOOGLE LLC  10009\n",
       "21201                  ERNST & YOUNG U.S. LLP   8801\n",
       "10967                   CAPGEMINI AMERICA INC   7878\n",
       "17374                 DELOITTE CONSULTING LLP   7793\n",
       "3400                AMAZON.COM SERVICES, INC.   7267\n",
       "40314                   MICROSOFT CORPORATION   6040\n",
       "936                             ACCENTURE LLP   5653\n",
       "29713                         IBM CORPORATION   5057\n",
       "27718                       HCL AMERICA, INC.   4688\n",
       "68707                           WIPRO LIMITED   4291\n",
       "35783        LARSEN & TOUBRO INFOTECH LIMITED   3624\n",
       "60434           TECH MAHINDRA (AMERICAS),INC.   2915"
      ]
     },
     "execution_count": 36,
     "metadata": {},
     "output_type": "execute_result"
    }
   ],
   "source": [
    "df3.head(15)"
   ]
  },
  {
   "cell_type": "code",
   "execution_count": 39,
   "id": "eb140279",
   "metadata": {},
   "outputs": [
    {
     "data": {
      "image/png": "[encoded data removed]",
      "text/plain": [
       "<Figure size 1500x1000 with 1 Axes>"
      ]
     },
     "metadata": {},
     "output_type": "display_data"
    }
   ],
   "source": [
    "import matplotlib.pyplot as plt\n",
    "ax = df3[['EMPLOYER_NAME','Freq']].plot(kind='bar', title =\"Top Employer Visa Applications\", figsize=(15, 10), legend=True, fontsize=12)\n",
    "ax.set_xlabel(\"EMPLOYER_NAME\", fontsize=12)\n",
    "ax.set_ylabel(\"Freq\", fontsize=12)\n",
    "plt.show()"
   ]
  },
  {
   "cell_type": "code",
   "execution_count": 40,
   "id": "3082a28a",
   "metadata": {
    "collapsed": true
   },
   "outputs": [
    {
     "ename": "KeyError",
     "evalue": "('CASE_STATUS', 'EMPLOYER_NAME')",
     "output_type": "error",
     "traceback": [
      "\u001b[1;31m---------------------------------------------------------------------------\u001b[0m",
      "\u001b[1;31mKeyError\u001b[0m                                  Traceback (most recent call last)",
      "\u001b[1;32m~\\anaconda3\\lib\\site-packages\\pandas\\core\\indexes\\base.py\u001b[0m in \u001b[0;36mget_loc\u001b[1;34m(self, key, method, tolerance)\u001b[0m\n\u001b[0;32m   3628\u001b[0m             \u001b[1;32mtry\u001b[0m\u001b[1;33m:\u001b[0m\u001b[1;33m\u001b[0m\u001b[1;33m\u001b[0m\u001b[0m\n\u001b[1;32m-> 3629\u001b[1;33m                 \u001b[1;32mreturn\u001b[0m \u001b[0mself\u001b[0m\u001b[1;33m.\u001b[0m\u001b[0m_engine\u001b[0m\u001b[1;33m.\u001b[0m\u001b[0mget_loc\u001b[0m\u001b[1;33m(\u001b[0m\u001b[0mcasted_key\u001b[0m\u001b[1;33m)\u001b[0m\u001b[1;33m\u001b[0m\u001b[1;33m\u001b[0m\u001b[0m\n\u001b[0m\u001b[0;32m   3630\u001b[0m             \u001b[1;32mexcept\u001b[0m \u001b[0mKeyError\u001b[0m \u001b[1;32mas\u001b[0m \u001b[0merr\u001b[0m\u001b[1;33m:\u001b[0m\u001b[1;33m\u001b[0m\u001b[1;33m\u001b[0m\u001b[0m\n",
      "\u001b[1;32m~\\anaconda3\\lib\\site-packages\\pandas\\_libs\\index.pyx\u001b[0m in \u001b[0;36mpandas._libs.index.IndexEngine.get_loc\u001b[1;34m()\u001b[0m\n",
      "\u001b[1;32m~\\anaconda3\\lib\\site-packages\\pandas\\_libs\\index.pyx\u001b[0m in \u001b[0;36mpandas._libs.index.IndexEngine.get_loc\u001b[1;34m()\u001b[0m\n",
      "\u001b[1;32mpandas\\_libs\\hashtable_class_helper.pxi\u001b[0m in \u001b[0;36mpandas._libs.hashtable.PyObjectHashTable.get_item\u001b[1;34m()\u001b[0m\n",
      "\u001b[1;32mpandas\\_libs\\hashtable_class_helper.pxi\u001b[0m in \u001b[0;36mpandas._libs.hashtable.PyObjectHashTable.get_item\u001b[1;34m()\u001b[0m\n",
      "\u001b[1;31mKeyError\u001b[0m: ('CASE_STATUS', 'EMPLOYER_NAME')",
      "\nThe above exception was the direct cause of the following exception:\n",
      "\u001b[1;31mKeyError\u001b[0m                                  Traceback (most recent call last)",
      "\u001b[1;32m~\\AppData\\Local\\Temp\\ipykernel_37108\\862159655.py\u001b[0m in \u001b[0;36m<module>\u001b[1;34m\u001b[0m\n\u001b[1;32m----> 1\u001b[1;33m \u001b[0mdf2\u001b[0m\u001b[1;33m[\u001b[0m\u001b[1;34m'CASE_STATUS'\u001b[0m\u001b[1;33m,\u001b[0m\u001b[1;34m'EMPLOYER_NAME'\u001b[0m\u001b[1;33m]\u001b[0m\u001b[1;33m.\u001b[0m\u001b[0mvalue_counts\u001b[0m\u001b[1;33m(\u001b[0m\u001b[1;33m)\u001b[0m\u001b[1;33m\u001b[0m\u001b[1;33m\u001b[0m\u001b[0m\n\u001b[0m",
      "\u001b[1;32m~\\anaconda3\\lib\\site-packages\\pandas\\core\\frame.py\u001b[0m in \u001b[0;36m__getitem__\u001b[1;34m(self, key)\u001b[0m\n\u001b[0;32m   3503\u001b[0m             \u001b[1;32mif\u001b[0m \u001b[0mself\u001b[0m\u001b[1;33m.\u001b[0m\u001b[0mcolumns\u001b[0m\u001b[1;33m.\u001b[0m\u001b[0mnlevels\u001b[0m \u001b[1;33m>\u001b[0m \u001b[1;36m1\u001b[0m\u001b[1;33m:\u001b[0m\u001b[1;33m\u001b[0m\u001b[1;33m\u001b[0m\u001b[0m\n\u001b[0;32m   3504\u001b[0m                 \u001b[1;32mreturn\u001b[0m \u001b[0mself\u001b[0m\u001b[1;33m.\u001b[0m\u001b[0m_getitem_multilevel\u001b[0m\u001b[1;33m(\u001b[0m\u001b[0mkey\u001b[0m\u001b[1;33m)\u001b[0m\u001b[1;33m\u001b[0m\u001b[1;33m\u001b[0m\u001b[0m\n\u001b[1;32m-> 3505\u001b[1;33m             \u001b[0mindexer\u001b[0m \u001b[1;33m=\u001b[0m \u001b[0mself\u001b[0m\u001b[1;33m.\u001b[0m\u001b[0mcolumns\u001b[0m\u001b[1;33m.\u001b[0m\u001b[0mget_loc\u001b[0m\u001b[1;33m(\u001b[0m\u001b[0mkey\u001b[0m\u001b[1;33m)\u001b[0m\u001b[1;33m\u001b[0m\u001b[1;33m\u001b[0m\u001b[0m\n\u001b[0m\u001b[0;32m   3506\u001b[0m             \u001b[1;32mif\u001b[0m \u001b[0mis_integer\u001b[0m\u001b[1;33m(\u001b[0m\u001b[0mindexer\u001b[0m\u001b[1;33m)\u001b[0m\u001b[1;33m:\u001b[0m\u001b[1;33m\u001b[0m\u001b[1;33m\u001b[0m\u001b[0m\n\u001b[0;32m   3507\u001b[0m                 \u001b[0mindexer\u001b[0m \u001b[1;33m=\u001b[0m \u001b[1;33m[\u001b[0m\u001b[0mindexer\u001b[0m\u001b[1;33m]\u001b[0m\u001b[1;33m\u001b[0m\u001b[1;33m\u001b[0m\u001b[0m\n",
      "\u001b[1;32m~\\anaconda3\\lib\\site-packages\\pandas\\core\\indexes\\base.py\u001b[0m in \u001b[0;36mget_loc\u001b[1;34m(self, key, method, tolerance)\u001b[0m\n\u001b[0;32m   3629\u001b[0m                 \u001b[1;32mreturn\u001b[0m \u001b[0mself\u001b[0m\u001b[1;33m.\u001b[0m\u001b[0m_engine\u001b[0m\u001b[1;33m.\u001b[0m\u001b[0mget_loc\u001b[0m\u001b[1;33m(\u001b[0m\u001b[0mcasted_key\u001b[0m\u001b[1;33m)\u001b[0m\u001b[1;33m\u001b[0m\u001b[1;33m\u001b[0m\u001b[0m\n\u001b[0;32m   3630\u001b[0m             \u001b[1;32mexcept\u001b[0m \u001b[0mKeyError\u001b[0m \u001b[1;32mas\u001b[0m \u001b[0merr\u001b[0m\u001b[1;33m:\u001b[0m\u001b[1;33m\u001b[0m\u001b[1;33m\u001b[0m\u001b[0m\n\u001b[1;32m-> 3631\u001b[1;33m                 \u001b[1;32mraise\u001b[0m \u001b[0mKeyError\u001b[0m\u001b[1;33m(\u001b[0m\u001b[0mkey\u001b[0m\u001b[1;33m)\u001b[0m \u001b[1;32mfrom\u001b[0m \u001b[0merr\u001b[0m\u001b[1;33m\u001b[0m\u001b[1;33m\u001b[0m\u001b[0m\n\u001b[0m\u001b[0;32m   3632\u001b[0m             \u001b[1;32mexcept\u001b[0m \u001b[0mTypeError\u001b[0m\u001b[1;33m:\u001b[0m\u001b[1;33m\u001b[0m\u001b[1;33m\u001b[0m\u001b[0m\n\u001b[0;32m   3633\u001b[0m                 \u001b[1;31m# If we have a listlike key, _check_indexing_error will raise\u001b[0m\u001b[1;33m\u001b[0m\u001b[1;33m\u001b[0m\u001b[0m\n",
      "\u001b[1;31mKeyError\u001b[0m: ('CASE_STATUS', 'EMPLOYER_NAME')"
     ]
    }
   ],
   "source": [
    "df2['CASE_STATUS'].value_counts()"
   ]
  },
  {
   "cell_type": "code",
   "execution_count": 94,
   "id": "2a99784d",
   "metadata": {},
   "outputs": [
    {
     "data": {
      "text/plain": [
       "0"
      ]
     },
     "execution_count": 94,
     "metadata": {},
     "output_type": "execute_result"
    }
   ],
   "source": [
    "df2.isna().sum()"
   ]
  },
  {
   "cell_type": "code",
   "execution_count": null,
   "id": "4f608957",
   "metadata": {},
   "outputs": [],
   "source": []
  }
 ],
 "metadata": {
  "kernelspec": {
   "display_name": "Python 3 (ipykernel)",
   "language": "python",
   "name": "python3"
  },
  "language_info": {
   "codemirror_mode": {
    "name": "ipython",
    "version": 3
   },
   "file_extension": ".py",
   "mimetype": "text/x-python",
   "name": "python",
   "nbconvert_exporter": "python",
   "pygments_lexer": "ipython3",
   "version": "3.9.13"
  }
 },
 "nbformat": 4,
 "nbformat_minor": 5
}
